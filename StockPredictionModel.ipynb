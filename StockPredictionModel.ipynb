{
 "cells": [
  {
   "attachments": {},
   "cell_type": "markdown",
   "metadata": {},
   "source": [
    "# **STOCK ADJUSTED CLOSING PRICE PREDICTION USING LSTM MODEL AND HISTORICAL DATA**"
   ]
  },
  {
   "attachments": {},
   "cell_type": "markdown",
   "metadata": {},
   "source": [
    "## **STEPS**"
   ]
  },
  {
   "attachments": {},
   "cell_type": "markdown",
   "metadata": {},
   "source": [
    "#### 1. **Obtaining the data**\n",
    "Data can be obtained directly by downloading from yfinance.\n",
    "#### 2. **Preprocessing the data**\n",
    "For preprocessing the data, since we only need the adjusted closing price, we only consider it. Here, we are considering adjusted closing price instead of closing price because closing price only refers to the cost of the shares at the end of the day, the adjusted closing price considers other factors such as dividend payments, stock splits and new stock offerings.\n",
    "#### 3. **Choosing a model**\n",
    "We will be using a stacked LSTM model. LSTM model is used because it stores previous data and uses it to predict the future prices which is required in the stock market\n",
    "#### 4. **Training the data**\n",
    "Here, the data will be split into 2 - Training data and Test data. Here, we will refrain ourselves from using train_test_split or randomseed because these will split the data randomly but, stock prices depend on the previous days prices. Therefore, we will split accordingly. Then, the model will be trained on the data\n",
    "#### 5. **Testing of the model**\n",
    "The model will later be tested and then, we will predict the adjusted closing prices for the next 30 days."
   ]
  },
  {
   "attachments": {},
   "cell_type": "markdown",
   "metadata": {},
   "source": [
    "Here, we will be predicting the stock adjusted closing price of Microsoft (MSFT). So, for that, download the data of MSFT from yfinance into a csv 'MSFT.csv'."
   ]
  },
  {
   "cell_type": "code",
   "execution_count": 31,
   "metadata": {},
   "outputs": [],
   "source": [
    "# importing all the required python libraries\n",
    "import numpy as np\n",
    "import pandas as pd\n",
    "import matplotlib.pyplot as plt\n",
    "import seaborn as sns\n",
    "from datetime import datetime\n",
    "from sklearn.preprocessing import MinMaxScaler\n",
    "import math\n",
    "from sklearn.metrics import mean_squared_error\n",
    "\n",
    "from tensorflow.keras.models import Sequential\n",
    "from tensorflow.keras.layers import Dense, LSTM"
   ]
  },
  {
   "cell_type": "code",
   "execution_count": 3,
   "metadata": {},
   "outputs": [
    {
     "data": {
      "text/html": [
       "<div>\n",
       "<style scoped>\n",
       "    .dataframe tbody tr th:only-of-type {\n",
       "        vertical-align: middle;\n",
       "    }\n",
       "\n",
       "    .dataframe tbody tr th {\n",
       "        vertical-align: top;\n",
       "    }\n",
       "\n",
       "    .dataframe thead th {\n",
       "        text-align: right;\n",
       "    }\n",
       "</style>\n",
       "<table border=\"1\" class=\"dataframe\">\n",
       "  <thead>\n",
       "    <tr style=\"text-align: right;\">\n",
       "      <th></th>\n",
       "      <th>Date</th>\n",
       "      <th>Open</th>\n",
       "      <th>High</th>\n",
       "      <th>Low</th>\n",
       "      <th>Close</th>\n",
       "      <th>Adj Close</th>\n",
       "      <th>Volume</th>\n",
       "    </tr>\n",
       "  </thead>\n",
       "  <tbody>\n",
       "    <tr>\n",
       "      <th>0</th>\n",
       "      <td>1986-03-13</td>\n",
       "      <td>0.088542</td>\n",
       "      <td>0.101563</td>\n",
       "      <td>0.088542</td>\n",
       "      <td>0.097222</td>\n",
       "      <td>0.060657</td>\n",
       "      <td>1031788800</td>\n",
       "    </tr>\n",
       "    <tr>\n",
       "      <th>1</th>\n",
       "      <td>1986-03-14</td>\n",
       "      <td>0.097222</td>\n",
       "      <td>0.102431</td>\n",
       "      <td>0.097222</td>\n",
       "      <td>0.100694</td>\n",
       "      <td>0.062823</td>\n",
       "      <td>308160000</td>\n",
       "    </tr>\n",
       "    <tr>\n",
       "      <th>2</th>\n",
       "      <td>1986-03-17</td>\n",
       "      <td>0.100694</td>\n",
       "      <td>0.103299</td>\n",
       "      <td>0.100694</td>\n",
       "      <td>0.102431</td>\n",
       "      <td>0.063906</td>\n",
       "      <td>133171200</td>\n",
       "    </tr>\n",
       "    <tr>\n",
       "      <th>3</th>\n",
       "      <td>1986-03-18</td>\n",
       "      <td>0.102431</td>\n",
       "      <td>0.103299</td>\n",
       "      <td>0.098958</td>\n",
       "      <td>0.099826</td>\n",
       "      <td>0.062281</td>\n",
       "      <td>67766400</td>\n",
       "    </tr>\n",
       "    <tr>\n",
       "      <th>4</th>\n",
       "      <td>1986-03-19</td>\n",
       "      <td>0.099826</td>\n",
       "      <td>0.100694</td>\n",
       "      <td>0.097222</td>\n",
       "      <td>0.098090</td>\n",
       "      <td>0.061198</td>\n",
       "      <td>47894400</td>\n",
       "    </tr>\n",
       "  </tbody>\n",
       "</table>\n",
       "</div>"
      ],
      "text/plain": [
       "         Date      Open      High       Low     Close  Adj Close      Volume\n",
       "0  1986-03-13  0.088542  0.101563  0.088542  0.097222   0.060657  1031788800\n",
       "1  1986-03-14  0.097222  0.102431  0.097222  0.100694   0.062823   308160000\n",
       "2  1986-03-17  0.100694  0.103299  0.100694  0.102431   0.063906   133171200\n",
       "3  1986-03-18  0.102431  0.103299  0.098958  0.099826   0.062281    67766400\n",
       "4  1986-03-19  0.099826  0.100694  0.097222  0.098090   0.061198    47894400"
      ]
     },
     "execution_count": 3,
     "metadata": {},
     "output_type": "execute_result"
    }
   ],
   "source": [
    "# Reading the csv file into a pandas dataframe\n",
    "data = pd.read_csv('MSFT.csv')\n",
    "data.head()"
   ]
  },
  {
   "cell_type": "code",
   "execution_count": 5,
   "metadata": {},
   "outputs": [
    {
     "data": {
      "text/html": [
       "<div>\n",
       "<style scoped>\n",
       "    .dataframe tbody tr th:only-of-type {\n",
       "        vertical-align: middle;\n",
       "    }\n",
       "\n",
       "    .dataframe tbody tr th {\n",
       "        vertical-align: top;\n",
       "    }\n",
       "\n",
       "    .dataframe thead th {\n",
       "        text-align: right;\n",
       "    }\n",
       "</style>\n",
       "<table border=\"1\" class=\"dataframe\">\n",
       "  <thead>\n",
       "    <tr style=\"text-align: right;\">\n",
       "      <th></th>\n",
       "      <th>Date</th>\n",
       "      <th>Adj Close</th>\n",
       "    </tr>\n",
       "  </thead>\n",
       "  <tbody>\n",
       "    <tr>\n",
       "      <th>0</th>\n",
       "      <td>1986-03-13</td>\n",
       "      <td>0.060657</td>\n",
       "    </tr>\n",
       "    <tr>\n",
       "      <th>1</th>\n",
       "      <td>1986-03-14</td>\n",
       "      <td>0.062823</td>\n",
       "    </tr>\n",
       "    <tr>\n",
       "      <th>2</th>\n",
       "      <td>1986-03-17</td>\n",
       "      <td>0.063906</td>\n",
       "    </tr>\n",
       "    <tr>\n",
       "      <th>3</th>\n",
       "      <td>1986-03-18</td>\n",
       "      <td>0.062281</td>\n",
       "    </tr>\n",
       "    <tr>\n",
       "      <th>4</th>\n",
       "      <td>1986-03-19</td>\n",
       "      <td>0.061198</td>\n",
       "    </tr>\n",
       "  </tbody>\n",
       "</table>\n",
       "</div>"
      ],
      "text/plain": [
       "         Date  Adj Close\n",
       "0  1986-03-13   0.060657\n",
       "1  1986-03-14   0.062823\n",
       "2  1986-03-17   0.063906\n",
       "3  1986-03-18   0.062281\n",
       "4  1986-03-19   0.061198"
      ]
     },
     "execution_count": 5,
     "metadata": {},
     "output_type": "execute_result"
    }
   ],
   "source": [
    "# Taking only the required columns\n",
    "data = data[['Date', 'Adj Close']]\n",
    "data.head()"
   ]
  },
  {
   "cell_type": "code",
   "execution_count": 6,
   "metadata": {},
   "outputs": [
    {
     "data": {
      "text/plain": [
       "Date          object\n",
       "Adj Close    float64\n",
       "dtype: object"
      ]
     },
     "execution_count": 6,
     "metadata": {},
     "output_type": "execute_result"
    }
   ],
   "source": [
    "data.dtypes"
   ]
  },
  {
   "cell_type": "code",
   "execution_count": 7,
   "metadata": {},
   "outputs": [],
   "source": [
    "# Converting 'Date' from a string to datetime\n",
    "data['Date'] = pd.to_datetime(data['Date'])"
   ]
  },
  {
   "cell_type": "code",
   "execution_count": 9,
   "metadata": {},
   "outputs": [
    {
     "data": {
      "text/plain": [
       "Date         datetime64[ns]\n",
       "Adj Close           float64\n",
       "dtype: object"
      ]
     },
     "execution_count": 9,
     "metadata": {},
     "output_type": "execute_result"
    }
   ],
   "source": [
    "data.dtypes"
   ]
  },
  {
   "cell_type": "code",
   "execution_count": 10,
   "metadata": {},
   "outputs": [],
   "source": [
    "# Sorting the prices according to the date\n",
    "data.sort_values(by=['Date'], ascending=True, inplace=True)"
   ]
  },
  {
   "cell_type": "code",
   "execution_count": 11,
   "metadata": {},
   "outputs": [
    {
     "data": {
      "image/png": "[encoded data removed]",
      "text/plain": [
       "<Figure size 640x480 with 1 Axes>"
      ]
     },
     "metadata": {},
     "output_type": "display_data"
    }
   ],
   "source": [
    "#Plotting a graph \n",
    "plt.plot(data['Date'], data['Adj Close'])\n",
    "plt.xlabel('Date')\n",
    "plt.ylabel('Adjusted Closing Price')\n",
    "plt.title('Adjusted Closing Price of MICROSOFT stock over the years')\n",
    "plt.show()"
   ]
  },
  {
   "cell_type": "code",
   "execution_count": 13,
   "metadata": {},
   "outputs": [],
   "source": [
    "data.drop('Date', axis=1, inplace= True)"
   ]
  },
  {
   "cell_type": "code",
   "execution_count": 14,
   "metadata": {},
   "outputs": [
    {
     "data": {
      "text/html": [
       "<div>\n",
       "<style scoped>\n",
       "    .dataframe tbody tr th:only-of-type {\n",
       "        vertical-align: middle;\n",
       "    }\n",
       "\n",
       "    .dataframe tbody tr th {\n",
       "        vertical-align: top;\n",
       "    }\n",
       "\n",
       "    .dataframe thead th {\n",
       "        text-align: right;\n",
       "    }\n",
       "</style>\n",
       "<table border=\"1\" class=\"dataframe\">\n",
       "  <thead>\n",
       "    <tr style=\"text-align: right;\">\n",
       "      <th></th>\n",
       "      <th>Adj Close</th>\n",
       "    </tr>\n",
       "  </thead>\n",
       "  <tbody>\n",
       "    <tr>\n",
       "      <th>0</th>\n",
       "      <td>0.060657</td>\n",
       "    </tr>\n",
       "    <tr>\n",
       "      <th>1</th>\n",
       "      <td>0.062823</td>\n",
       "    </tr>\n",
       "    <tr>\n",
       "      <th>2</th>\n",
       "      <td>0.063906</td>\n",
       "    </tr>\n",
       "    <tr>\n",
       "      <th>3</th>\n",
       "      <td>0.062281</td>\n",
       "    </tr>\n",
       "    <tr>\n",
       "      <th>4</th>\n",
       "      <td>0.061198</td>\n",
       "    </tr>\n",
       "  </tbody>\n",
       "</table>\n",
       "</div>"
      ],
      "text/plain": [
       "   Adj Close\n",
       "0   0.060657\n",
       "1   0.062823\n",
       "2   0.063906\n",
       "3   0.062281\n",
       "4   0.061198"
      ]
     },
     "execution_count": 14,
     "metadata": {},
     "output_type": "execute_result"
    }
   ],
   "source": [
    "data.head()"
   ]
  },
  {
   "attachments": {},
   "cell_type": "markdown",
   "metadata": {},
   "source": [
    "Since LSTM is sensitive to unscaled data, we will have to scale the data."
   ]
  },
  {
   "cell_type": "code",
   "execution_count": 15,
   "metadata": {},
   "outputs": [],
   "source": [
    "#scaling the data to the range (0,1)\n",
    "scaling = MinMaxScaler(feature_range=(0,1)) \n",
    "data = scaling.fit_transform(np.array(data).reshape(-1,1)) "
   ]
  },
  {
   "cell_type": "code",
   "execution_count": 16,
   "metadata": {},
   "outputs": [],
   "source": [
    "#Splitting data\n",
    "training = int(len(data)*0.8)\n",
    "testing = len(data) - training\n",
    "train, test = data[0:training,:], data[training:len(data),:]"
   ]
  },
  {
   "cell_type": "code",
   "execution_count": 17,
   "metadata": {},
   "outputs": [
    {
     "data": {
      "text/plain": [
       "(7457, 1865)"
      ]
     },
     "execution_count": 17,
     "metadata": {},
     "output_type": "execute_result"
    }
   ],
   "source": [
    "training, testing"
   ]
  },
  {
   "cell_type": "code",
   "execution_count": 21,
   "metadata": {},
   "outputs": [],
   "source": [
    "#Function to create a dataset i.e converting an array to a matrix with every row being a row of features i.e stock prices\n",
    "# and y being the next day's price\n",
    "def conversion(data, numoffeatures):\n",
    "    P = []\n",
    "    Q = []\n",
    "    for i in range(len(data) - numoffeatures - 1):\n",
    "        a = data[i:(i+numoffeatures), 0]\n",
    "        P.append(a)\n",
    "        Q.append(data[i+numoffeatures,0])\n",
    "    return np.array(P), np.array(Q)"
   ]
  },
  {
   "attachments": {},
   "cell_type": "markdown",
   "metadata": {},
   "source": [
    "**Let numoffeatures = 100 i.e stock price of a day depends on the stock prices of previous 100 days**"
   ]
  },
  {
   "cell_type": "code",
   "execution_count": 22,
   "metadata": {},
   "outputs": [],
   "source": [
    "numoffeatures = 100\n",
    "X_train, y_train = conversion(train, numoffeatures)\n",
    "X_test, y_test = conversion(test, numoffeatures)"
   ]
  },
  {
   "cell_type": "code",
   "execution_count": 23,
   "metadata": {},
   "outputs": [],
   "source": [
    "# Reshaping the data into 3D input for LSTM\n",
    "X_train = X_train.reshape(X_train.shape[0], X_train.shape[1], 1)\n",
    "X_test = X_test.reshape(X_test.shape[0], X_test.shape[1], 1)"
   ]
  },
  {
   "attachments": {},
   "cell_type": "markdown",
   "metadata": {},
   "source": [
    "**Creating the stacked LSTM Model**"
   ]
  },
  {
   "cell_type": "code",
   "execution_count": 25,
   "metadata": {},
   "outputs": [],
   "source": [
    "model = Sequential()\n",
    "model.add(LSTM(50, return_sequences=True, input_shape = (100,1)))\n",
    "model.add(LSTM(50, return_sequences=True))\n",
    "model.add(LSTM(50))\n",
    "model.add(Dense(1))\n",
    "model.compile(loss='mean_squared_error', optimizer = 'adam')"
   ]
  },
  {
   "cell_type": "code",
   "execution_count": 26,
   "metadata": {},
   "outputs": [
    {
     "name": "stdout",
     "output_type": "stream",
     "text": [
      "Model: \"sequential_1\"\n",
      "_________________________________________________________________\n",
      "Layer (type)                 Output Shape              Param #   \n",
      "=================================================================\n",
      "lstm_3 (LSTM)                (None, 100, 50)           10400     \n",
      "_________________________________________________________________\n",
      "lstm_4 (LSTM)                (None, 100, 50)           20200     \n",
      "_________________________________________________________________\n",
      "lstm_5 (LSTM)                (None, 50)                20200     \n",
      "_________________________________________________________________\n",
      "dense_1 (Dense)              (None, 1)                 51        \n",
      "=================================================================\n",
      "Total params: 50,851\n",
      "Trainable params: 50,851\n",
      "Non-trainable params: 0\n",
      "_________________________________________________________________\n"
     ]
    }
   ],
   "source": [
    "model.summary()"
   ]
  },
  {
   "attachments": {},
   "cell_type": "markdown",
   "metadata": {},
   "source": [
    "**Training the model**"
   ]
  },
  {
   "cell_type": "code",
   "execution_count": 28,
   "metadata": {},
   "outputs": [
    {
     "name": "stdout",
     "output_type": "stream",
     "text": [
      "Train on 7356 samples, validate on 1764 samples\n",
      "Epoch 1/100\n",
      "7356/7356 [==============================] - 26s 4ms/sample - loss: 9.0636e-06 - val_loss: 0.0066\n",
      "Epoch 2/100\n",
      "7356/7356 [==============================] - 25s 3ms/sample - loss: 8.3717e-06 - val_loss: 0.0066\n",
      "Epoch 3/100\n",
      "7356/7356 [==============================] - 25s 3ms/sample - loss: 7.7948e-06 - val_loss: 0.0050\n",
      "Epoch 4/100\n",
      "7356/7356 [==============================] - 25s 3ms/sample - loss: 7.2448e-06 - val_loss: 0.0045\n",
      "Epoch 5/100\n",
      "7356/7356 [==============================] - 26s 3ms/sample - loss: 6.9242e-06 - val_loss: 0.0033\n",
      "Epoch 6/100\n",
      "7356/7356 [==============================] - 25s 3ms/sample - loss: 6.3713e-06 - val_loss: 0.0029\n",
      "Epoch 7/100\n",
      "7356/7356 [==============================] - 26s 3ms/sample - loss: 6.8782e-06 - val_loss: 0.0026\n",
      "Epoch 8/100\n",
      "7356/7356 [==============================] - 26s 3ms/sample - loss: 5.7448e-06 - val_loss: 0.0029\n",
      "Epoch 9/100\n",
      "7356/7356 [==============================] - 25s 3ms/sample - loss: 4.9665e-06 - val_loss: 0.0032\n",
      "Epoch 10/100\n",
      "7356/7356 [==============================] - 26s 3ms/sample - loss: 6.0243e-06 - val_loss: 0.0033\n",
      "Epoch 11/100\n",
      "7356/7356 [==============================] - 25s 3ms/sample - loss: 5.2906e-06 - val_loss: 0.0026\n",
      "Epoch 12/100\n",
      "7356/7356 [==============================] - 26s 3ms/sample - loss: 5.1049e-06 - val_loss: 0.0021\n",
      "Epoch 13/100\n",
      "7356/7356 [==============================] - 25s 3ms/sample - loss: 4.4726e-06 - val_loss: 0.0021\n",
      "Epoch 14/100\n",
      "7356/7356 [==============================] - 26s 4ms/sample - loss: 5.0552e-06 - val_loss: 0.0029\n",
      "Epoch 15/100\n",
      "7356/7356 [==============================] - 25s 3ms/sample - loss: 4.3265e-06 - val_loss: 0.0029\n",
      "Epoch 16/100\n",
      "7356/7356 [==============================] - 25s 3ms/sample - loss: 4.6422e-06 - val_loss: 0.0023\n",
      "Epoch 17/100\n",
      "7356/7356 [==============================] - 31s 4ms/sample - loss: 4.0223e-06 - val_loss: 0.0018\n",
      "Epoch 18/100\n",
      "7356/7356 [==============================] - 39s 5ms/sample - loss: 4.5511e-06 - val_loss: 0.0019\n",
      "Epoch 19/100\n",
      "7356/7356 [==============================] - 43s 6ms/sample - loss: 3.8556e-06 - val_loss: 0.0014\n",
      "Epoch 20/100\n",
      "7356/7356 [==============================] - 37s 5ms/sample - loss: 3.8493e-06 - val_loss: 0.0018\n",
      "Epoch 21/100\n",
      "7356/7356 [==============================] - 42s 6ms/sample - loss: 4.3956e-06 - val_loss: 0.0018\n",
      "Epoch 22/100\n",
      "7356/7356 [==============================] - 39s 5ms/sample - loss: 3.5369e-06 - val_loss: 0.0012\n",
      "Epoch 23/100\n",
      "7356/7356 [==============================] - 28s 4ms/sample - loss: 3.9349e-06 - val_loss: 0.0018\n",
      "Epoch 24/100\n",
      "7356/7356 [==============================] - 26s 4ms/sample - loss: 3.5103e-06 - val_loss: 0.0013\n",
      "Epoch 25/100\n",
      "7356/7356 [==============================] - 26s 4ms/sample - loss: 3.1266e-06 - val_loss: 0.0013\n",
      "Epoch 26/100\n",
      "7356/7356 [==============================] - 29s 4ms/sample - loss: 3.3620e-06 - val_loss: 0.0014\n",
      "Epoch 27/100\n",
      "7356/7356 [==============================] - 32s 4ms/sample - loss: 3.2221e-06 - val_loss: 0.0017\n",
      "Epoch 28/100\n",
      "7356/7356 [==============================] - 20s 3ms/sample - loss: 2.9488e-06 - val_loss: 0.0014\n",
      "Epoch 29/100\n",
      "7356/7356 [==============================] - 19s 3ms/sample - loss: 3.3875e-06 - val_loss: 0.0016\n",
      "Epoch 30/100\n",
      "7356/7356 [==============================] - 20s 3ms/sample - loss: 2.9974e-06 - val_loss: 0.0010\n",
      "Epoch 31/100\n",
      "7356/7356 [==============================] - 20s 3ms/sample - loss: 2.6169e-06 - val_loss: 5.8327e-04\n",
      "Epoch 32/100\n",
      "7356/7356 [==============================] - 20s 3ms/sample - loss: 2.7184e-06 - val_loss: 0.0010\n",
      "Epoch 33/100\n",
      "7356/7356 [==============================] - 21s 3ms/sample - loss: 2.8401e-06 - val_loss: 0.0014\n",
      "Epoch 34/100\n",
      "7356/7356 [==============================] - 21s 3ms/sample - loss: 2.6158e-06 - val_loss: 8.5894e-04\n",
      "Epoch 35/100\n",
      "7356/7356 [==============================] - 20s 3ms/sample - loss: 2.6164e-06 - val_loss: 8.3296e-04\n",
      "Epoch 36/100\n",
      "7356/7356 [==============================] - 21s 3ms/sample - loss: 2.8855e-06 - val_loss: 8.9053e-04\n",
      "Epoch 37/100\n",
      "7356/7356 [==============================] - 22s 3ms/sample - loss: 2.7743e-06 - val_loss: 4.8368e-04\n",
      "Epoch 38/100\n",
      "7356/7356 [==============================] - 23s 3ms/sample - loss: 2.3824e-06 - val_loss: 9.2955e-04\n",
      "Epoch 39/100\n",
      "7356/7356 [==============================] - 21s 3ms/sample - loss: 2.3142e-06 - val_loss: 5.8292e-04\n",
      "Epoch 40/100\n",
      "7356/7356 [==============================] - 21s 3ms/sample - loss: 2.2357e-06 - val_loss: 4.9746e-04\n",
      "Epoch 41/100\n",
      "7356/7356 [==============================] - 20s 3ms/sample - loss: 2.1915e-06 - val_loss: 7.3359e-04\n",
      "Epoch 42/100\n",
      "7356/7356 [==============================] - 20s 3ms/sample - loss: 2.2382e-06 - val_loss: 6.1795e-04\n",
      "Epoch 43/100\n",
      "7356/7356 [==============================] - 20s 3ms/sample - loss: 1.9980e-06 - val_loss: 7.6597e-04\n",
      "Epoch 44/100\n",
      "7356/7356 [==============================] - 20s 3ms/sample - loss: 2.1727e-06 - val_loss: 2.6596e-04\n",
      "Epoch 45/100\n",
      "7356/7356 [==============================] - 20s 3ms/sample - loss: 1.9245e-06 - val_loss: 3.1497e-04\n",
      "Epoch 46/100\n",
      "7356/7356 [==============================] - 20s 3ms/sample - loss: 2.1416e-06 - val_loss: 3.5438e-04\n",
      "Epoch 47/100\n",
      "7356/7356 [==============================] - 20s 3ms/sample - loss: 1.8915e-06 - val_loss: 4.0858e-04\n",
      "Epoch 48/100\n",
      "7356/7356 [==============================] - 20s 3ms/sample - loss: 1.7161e-06 - val_loss: 3.8932e-04\n",
      "Epoch 49/100\n",
      "7356/7356 [==============================] - 20s 3ms/sample - loss: 1.8950e-06 - val_loss: 6.4609e-04\n",
      "Epoch 50/100\n",
      "7356/7356 [==============================] - 20s 3ms/sample - loss: 1.8862e-06 - val_loss: 3.4256e-04\n",
      "Epoch 51/100\n",
      "7356/7356 [==============================] - 21s 3ms/sample - loss: 1.6547e-06 - val_loss: 5.5715e-04\n",
      "Epoch 52/100\n",
      "7356/7356 [==============================] - 20s 3ms/sample - loss: 1.7269e-06 - val_loss: 4.7624e-04\n",
      "Epoch 53/100\n",
      "7356/7356 [==============================] - 20s 3ms/sample - loss: 2.0481e-06 - val_loss: 5.3094e-04\n",
      "Epoch 54/100\n",
      "7356/7356 [==============================] - 21s 3ms/sample - loss: 1.6672e-06 - val_loss: 2.6456e-04\n",
      "Epoch 55/100\n",
      "7356/7356 [==============================] - 35s 5ms/sample - loss: 1.5215e-06 - val_loss: 3.3495e-04\n",
      "Epoch 56/100\n",
      "7356/7356 [==============================] - 19s 3ms/sample - loss: 2.0111e-06 - val_loss: 4.0985e-04\n",
      "Epoch 57/100\n",
      "7356/7356 [==============================] - 20s 3ms/sample - loss: 1.7879e-06 - val_loss: 3.2937e-04\n",
      "Epoch 58/100\n",
      "7356/7356 [==============================] - 20s 3ms/sample - loss: 1.8023e-06 - val_loss: 5.6373e-04\n",
      "Epoch 59/100\n",
      "7356/7356 [==============================] - 20s 3ms/sample - loss: 1.5610e-06 - val_loss: 4.5785e-04\n",
      "Epoch 60/100\n",
      "7356/7356 [==============================] - 20s 3ms/sample - loss: 1.5939e-06 - val_loss: 3.9459e-04\n",
      "Epoch 61/100\n",
      "7356/7356 [==============================] - 20s 3ms/sample - loss: 1.7295e-06 - val_loss: 4.7918e-04\n",
      "Epoch 62/100\n",
      "7356/7356 [==============================] - 20s 3ms/sample - loss: 1.4985e-06 - val_loss: 4.4122e-04\n",
      "Epoch 63/100\n",
      "7356/7356 [==============================] - 20s 3ms/sample - loss: 1.6572e-06 - val_loss: 6.7856e-04\n",
      "Epoch 64/100\n",
      "7356/7356 [==============================] - 20s 3ms/sample - loss: 1.4357e-06 - val_loss: 3.3597e-04\n",
      "Epoch 65/100\n",
      "7356/7356 [==============================] - 20s 3ms/sample - loss: 1.4613e-06 - val_loss: 3.0198e-04\n",
      "Epoch 66/100\n",
      "7356/7356 [==============================] - 20s 3ms/sample - loss: 1.4670e-06 - val_loss: 4.1699e-04\n",
      "Epoch 67/100\n",
      "7356/7356 [==============================] - 21s 3ms/sample - loss: 1.4923e-06 - val_loss: 3.5971e-04\n",
      "Epoch 68/100\n",
      "7356/7356 [==============================] - 24s 3ms/sample - loss: 1.6445e-06 - val_loss: 4.7373e-04\n",
      "Epoch 69/100\n",
      "7356/7356 [==============================] - 23s 3ms/sample - loss: 1.5830e-06 - val_loss: 2.6633e-04\n",
      "Epoch 70/100\n",
      "7356/7356 [==============================] - 23s 3ms/sample - loss: 1.7596e-06 - val_loss: 4.5190e-04\n",
      "Epoch 71/100\n",
      "7356/7356 [==============================] - 22s 3ms/sample - loss: 1.3578e-06 - val_loss: 2.6031e-04\n",
      "Epoch 72/100\n",
      "7356/7356 [==============================] - 22s 3ms/sample - loss: 1.3179e-06 - val_loss: 3.7359e-04\n",
      "Epoch 73/100\n",
      "7356/7356 [==============================] - 22s 3ms/sample - loss: 1.3420e-06 - val_loss: 5.0017e-04\n",
      "Epoch 74/100\n",
      "7356/7356 [==============================] - 22s 3ms/sample - loss: 1.4243e-06 - val_loss: 6.9519e-04\n",
      "Epoch 75/100\n",
      "7356/7356 [==============================] - 23s 3ms/sample - loss: 1.4954e-06 - val_loss: 5.2558e-04\n",
      "Epoch 76/100\n",
      "7356/7356 [==============================] - 23s 3ms/sample - loss: 1.4570e-06 - val_loss: 5.5825e-04\n",
      "Epoch 77/100\n",
      "7356/7356 [==============================] - 21s 3ms/sample - loss: 1.5879e-06 - val_loss: 6.6341e-04\n",
      "Epoch 78/100\n",
      "7356/7356 [==============================] - 22s 3ms/sample - loss: 1.4836e-06 - val_loss: 6.3314e-04\n",
      "Epoch 79/100\n",
      "7356/7356 [==============================] - 22s 3ms/sample - loss: 1.5919e-06 - val_loss: 2.7226e-04\n",
      "Epoch 80/100\n",
      "7356/7356 [==============================] - 22s 3ms/sample - loss: 1.4837e-06 - val_loss: 3.9041e-04\n",
      "Epoch 81/100\n",
      "7356/7356 [==============================] - 20s 3ms/sample - loss: 1.4100e-06 - val_loss: 4.9516e-04\n",
      "Epoch 82/100\n",
      "7356/7356 [==============================] - 20s 3ms/sample - loss: 1.5072e-06 - val_loss: 6.4931e-04\n",
      "Epoch 83/100\n",
      "7356/7356 [==============================] - 20s 3ms/sample - loss: 1.5888e-06 - val_loss: 6.9459e-04\n",
      "Epoch 84/100\n",
      "7356/7356 [==============================] - 20s 3ms/sample - loss: 1.2908e-06 - val_loss: 4.3273e-04\n",
      "Epoch 85/100\n",
      "7356/7356 [==============================] - 22s 3ms/sample - loss: 1.3342e-06 - val_loss: 5.5107e-04\n",
      "Epoch 86/100\n",
      "7356/7356 [==============================] - 22s 3ms/sample - loss: 1.4793e-06 - val_loss: 6.6591e-04\n",
      "Epoch 87/100\n",
      "7356/7356 [==============================] - 20s 3ms/sample - loss: 1.3417e-06 - val_loss: 6.5193e-04\n",
      "Epoch 88/100\n",
      "7356/7356 [==============================] - 21s 3ms/sample - loss: 1.3027e-06 - val_loss: 7.5169e-04\n",
      "Epoch 89/100\n",
      "7356/7356 [==============================] - 21s 3ms/sample - loss: 1.2993e-06 - val_loss: 5.6541e-04\n",
      "Epoch 90/100\n",
      "7356/7356 [==============================] - 21s 3ms/sample - loss: 1.2706e-06 - val_loss: 6.0859e-04\n",
      "Epoch 91/100\n",
      "7356/7356 [==============================] - 21s 3ms/sample - loss: 1.3519e-06 - val_loss: 8.5874e-04\n",
      "Epoch 92/100\n",
      "7356/7356 [==============================] - 22s 3ms/sample - loss: 1.3886e-06 - val_loss: 6.3862e-04\n",
      "Epoch 93/100\n",
      "7356/7356 [==============================] - 23s 3ms/sample - loss: 1.5540e-06 - val_loss: 7.6283e-04\n",
      "Epoch 94/100\n",
      "7356/7356 [==============================] - 20s 3ms/sample - loss: 1.5744e-06 - val_loss: 8.4090e-04\n",
      "Epoch 95/100\n",
      "7356/7356 [==============================] - 20s 3ms/sample - loss: 1.3648e-06 - val_loss: 6.0930e-04\n",
      "Epoch 96/100\n",
      "7356/7356 [==============================] - 20s 3ms/sample - loss: 1.4489e-06 - val_loss: 6.9278e-04\n",
      "Epoch 97/100\n",
      "7356/7356 [==============================] - 20s 3ms/sample - loss: 1.5159e-06 - val_loss: 0.0010\n",
      "Epoch 98/100\n",
      "7356/7356 [==============================] - 21s 3ms/sample - loss: 1.3267e-06 - val_loss: 7.1762e-04\n",
      "Epoch 99/100\n",
      "7356/7356 [==============================] - 20s 3ms/sample - loss: 1.2010e-06 - val_loss: 8.6156e-04\n",
      "Epoch 100/100\n",
      "7356/7356 [==============================] - 21s 3ms/sample - loss: 1.4652e-06 - val_loss: 9.1737e-04\n"
     ]
    },
    {
     "data": {
      "text/plain": [
       "<tensorflow.python.keras.callbacks.History at 0x281cffcd6c8>"
      ]
     },
     "execution_count": 28,
     "metadata": {},
     "output_type": "execute_result"
    }
   ],
   "source": [
    "model.fit(X_train, y_train, validation_data=(X_test, y_test), epochs= 100, batch_size=64, verbose=1)"
   ]
  },
  {
   "attachments": {},
   "cell_type": "markdown",
   "metadata": {},
   "source": [
    "**Predicting for training and testing data**"
   ]
  },
  {
   "cell_type": "code",
   "execution_count": 29,
   "metadata": {},
   "outputs": [],
   "source": [
    "predict_train = model.predict(X_train)\n",
    "predict_test = model.predict(X_test)"
   ]
  },
  {
   "attachments": {},
   "cell_type": "markdown",
   "metadata": {},
   "source": [
    "**Since we scaled the input, we will have to do inverse scaling to get the output**"
   ]
  },
  {
   "cell_type": "code",
   "execution_count": 30,
   "metadata": {},
   "outputs": [],
   "source": [
    "predict_train = scaling.inverse_transform(predict_train)\n",
    "predict_test = scaling.inverse_transform(predict_test)"
   ]
  },
  {
   "cell_type": "code",
   "execution_count": 35,
   "metadata": {},
   "outputs": [
    {
     "name": "stdout",
     "output_type": "stream",
     "text": [
      "The RMSE for the training data is 17.927987080451118\n"
     ]
    }
   ],
   "source": [
    "# Calculating the RMSE for train data\n",
    "print(\"The RMSE for the training data is \" +str(math.sqrt(mean_squared_error(y_train, predict_train))))"
   ]
  },
  {
   "cell_type": "code",
   "execution_count": 37,
   "metadata": {},
   "outputs": [
    {
     "name": "stdout",
     "output_type": "stream",
     "text": [
      "The RMSE for the test data is 169.92301755283555\n"
     ]
    }
   ],
   "source": [
    "# Calculating the RMSE for test data\n",
    "print(\"The RMSE for the test data is \" +str(math.sqrt(mean_squared_error(y_test, predict_test))))"
   ]
  },
  {
   "cell_type": "code",
   "execution_count": 40,
   "metadata": {},
   "outputs": [
    {
     "data": {
      "text/plain": [
       "[<matplotlib.lines.Line2D at 0x281d0142d08>]"
      ]
     },
     "execution_count": 40,
     "metadata": {},
     "output_type": "execute_result"
    },
    {
     "data": {
      "image/png": "[encoded data removed]",
      "text/plain": [
       "<Figure size 640x480 with 1 Axes>"
      ]
     },
     "metadata": {},
     "output_type": "display_data"
    }
   ],
   "source": [
    "# Plotting the actual graph and the predicted values for training and test data\n",
    "PredictedTrain=np.empty_like(data)\n",
    "PredictedTest=np.empty_like(data)\n",
    "\n",
    "PredictedTrain[:,:]=np.nan\n",
    "PredictedTest[:,:]=np.nan\n",
    "\n",
    "PredictedTrain[100:len(predict_train)+100,:]=predict_train\n",
    "PredictedTest[len(data)-len(predict_test):len(data),:]=predict_test\n",
    "\n",
    "plt.plot(scaling.inverse_transform(data)) # Blue\n",
    "plt.plot(PredictedTrain) # Orange\n",
    "plt.plot(PredictedTest) # Green"
   ]
  },
  {
   "attachments": {},
   "cell_type": "markdown",
   "metadata": {},
   "source": [
    "**Now, we are going to predict the stock prices for the next 30 days. For that we would require previous 100 days stock prices**"
   ]
  },
  {
   "cell_type": "code",
   "execution_count": 84,
   "metadata": {},
   "outputs": [],
   "source": [
    "# Taking the last 100 days values\n",
    "X_input = data[len(data) - 100:].reshape(1,-1)"
   ]
  },
  {
   "attachments": {},
   "cell_type": "markdown",
   "metadata": {},
   "source": [
    "**Here, we are predicting for the first day using the 100 days we have and then adding the predicted value to the input and shifting the days by 1 i.e now taking from 1 to 101 days (101 being the predicted and added value) and we continue this process for 30 times till the values for 30 days are predicted.**"
   ]
  },
  {
   "cell_type": "code",
   "execution_count": 88,
   "metadata": {},
   "outputs": [],
   "source": [
    "# output has the stock prices for the next 30 days\n",
    "output=[]\n",
    "temp_input=list(X_input)\n",
    "temp_input=temp_input[0].tolist()\n",
    "for i in range(0,30):\n",
    "    input = np.array(temp_input)\n",
    "    input = input.reshape((1, 100,1))\n",
    "    y_temp = model.predict(input)\n",
    "    temp_input.extend(y_temp[0].tolist())\n",
    "    output.extend(y_temp.tolist())\n",
    "    temp_input=temp_input[1:]"
   ]
  },
  {
   "attachments": {},
   "cell_type": "markdown",
   "metadata": {},
   "source": [
    "**Plotting the actual data and predicted stock prices**"
   ]
  },
  {
   "cell_type": "code",
   "execution_count": 95,
   "metadata": {},
   "outputs": [
    {
     "data": {
      "image/png": "[encoded data removed]",
      "text/plain": [
       "<Figure size 640x480 with 1 Axes>"
      ]
     },
     "metadata": {},
     "output_type": "display_data"
    }
   ],
   "source": [
    "day_old = np.arange(1,101)\n",
    "day_pred = np.arange(101,131)\n",
    "\n",
    "plt.plot(day_old, scaling.inverse_transform(data[len(data)-100:]))\n",
    "plt.plot(day_pred, scaling.inverse_transform(output))\n",
    "plt.show()"
   ]
  },
  {
   "attachments": {},
   "cell_type": "markdown",
   "metadata": {},
   "source": [
    "**This method of predicting stock prices using LSTM Model is not really efficient. Some of the reasons are the following :-**\n",
    "1. Using MinMaxScaler, the values are scaled according the minimum and maximum values in the given dataset. This eliminates the possibility of the stock doing really well or really bad in the market. The stock might close at a price which is the highest of all time or lowest of all time, this is eliminated here\n",
    "2. LSTMs are used because they store data but, stock prices don't depend only on the previous prices but on many others like, failure of a product, launch of a new product, social media and etc.\n",
    "3. Using LSTMs for stock price predictions that we are completely disregarding the random walk theory.\n",
    "\n",
    "**Therefore, this project is entirely for educational purposes**"
   ]
  }
 ],
 "metadata": {
  "kernelspec": {
   "display_name": "Python 3",
   "language": "python",
   "name": "python3"
  },
  "language_info": {
   "codemirror_mode": {
    "name": "ipython",
    "version": 3
   },
   "file_extension": ".py",
   "mimetype": "text/x-python",
   "name": "python",
   "nbconvert_exporter": "python",
   "pygments_lexer": "ipython3",
   "version": "3.7.12"
  },
  "orig_nbformat": 4
 },
 "nbformat": 4,
 "nbformat_minor": 2
}
